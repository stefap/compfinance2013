{
 "metadata": {
  "name": "Simple_Returns"
 },
 "nbformat": 3,
 "nbformat_minor": 0,
 "worksheets": [
  {
   "cells": [
    {
     "cell_type": "code",
     "collapsed": false,
     "input": "from IPython.display import HTML",
     "language": "python",
     "metadata": {},
     "outputs": [],
     "prompt_number": 65
    },
    {
     "cell_type": "heading",
     "level": 1,
     "metadata": {},
     "source": "Introduction to Computational Finance and Financial Econometrics "
    },
    {
     "cell_type": "heading",
     "level": 2,
     "metadata": {},
     "source": "Return Calculations in Python"
    },
    {
     "cell_type": "markdown",
     "metadata": {},
     "source": "Future value:\n\n* $V$ invested $n$ years at simple interest rate $R$ per year\n* Compoounding of interest occurs at the end of year\n\n$$FV_n=V(1+R)^n, $$\n\nwhere $FV_n$ is future value after $n$ years.\n\n\nExample:\nConsider a checking account with an annual interest of 3%, deposit of $1000 over 1, 5 and 10 years. "
    },
    {
     "cell_type": "code",
     "collapsed": false,
     "input": "V=1000.0; R=3.0; n_yrs=[1.0,5.0,10.0];",
     "language": "python",
     "metadata": {},
     "outputs": [],
     "prompt_number": 66
    },
    {
     "cell_type": "code",
     "collapsed": false,
     "input": "FV=[];t=\"\";\nfor n in n_yrs:\n    x=round(V*(1+R*0.01)**n,2)\n    FV.append(x)\n    t=t+(\"\"\"<tr> <td> \"\"\" + str(V) + \"\"\" </td> <td> \"\"\" + str(R) +\"\"\" </td> <td> \"\"\" + str(n) + \"\"\" </td> <td> \"\"\" + str(x) + \"\"\" </td> </tr>\"\"\")",
     "language": "python",
     "metadata": {},
     "outputs": [],
     "prompt_number": 67
    },
    {
     "cell_type": "code",
     "collapsed": false,
     "input": "s1 = \"\"\"<table>\n<tr>\n<th>Initial $\\$V$ Value [$]</th>\n<th>$R$ Annual Interest [%]</th>\n<th>Years</th>\n<th>Future value [$]</th>\n</tr>\n\"\"\"\ns2=\"\"\"</table>\"\"\"",
     "language": "python",
     "metadata": {},
     "outputs": [],
     "prompt_number": 68
    },
    {
     "cell_type": "markdown",
     "metadata": {},
     "source": "Table of Results:"
    },
    {
     "cell_type": "code",
     "collapsed": false,
     "input": "s=s1+t+s2",
     "language": "python",
     "metadata": {},
     "outputs": [],
     "prompt_number": 69
    },
    {
     "cell_type": "code",
     "collapsed": false,
     "input": "h=HTML(s);h",
     "language": "python",
     "metadata": {},
     "outputs": [
      {
       "html": "<table>\n<tr>\n<th>Initial $\\$V$ Value [$]</th>\n<th>$R$ Annual Interest [%]</th>\n<th>Years</th>\n<th>Future value [$]</th>\n</tr>\n<tr> <td> 1000.0 </td> <td> 3.0 </td> <td> 1.0 </td> <td> 1030.0 </td> </tr><tr> <td> 1000.0 </td> <td> 3.0 </td> <td> 5.0 </td> <td> 1159.27 </td> </tr><tr> <td> 1000.0 </td> <td> 3.0 </td> <td> 10.0 </td> <td> 1343.92 </td> </tr></table>",
       "output_type": "pyout",
       "prompt_number": 70,
       "text": "<IPython.core.display.HTML at 0x1fe0c50>"
      }
     ],
     "prompt_number": 70
    },
    {
     "cell_type": "code",
     "collapsed": false,
     "input": "",
     "language": "python",
     "metadata": {},
     "outputs": [],
     "prompt_number": 70
    }
   ],
   "metadata": {}
  }
 ]
}